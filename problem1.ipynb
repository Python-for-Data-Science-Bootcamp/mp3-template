{
 "cells": [
  {
   "cell_type": "markdown",
   "metadata": {
    "deletable": false,
    "editable": false,
    "nbgrader": {
     "cell_type": "markdown",
     "checksum": "d80cb8d0d530a0f4f1e976147acd9d36",
     "grade": false,
     "grade_id": "jupyter",
     "locked": true,
     "schema_version": 3,
     "solution": false
    }
   },
   "source": [
    "## Python for Data Science Bootcamp\n",
    "## Mini Project 3\n",
    "\n",
    "NOTE: This mini project has 4 problems.  Please write your code in the designated portion of the autograded answer cell.\n",
    "\n",
    "For this problem set, we'll be using the Jupyter notebook and nbgrader:\n",
    "\n",
    "![](jupyter.png)\n",
    "\n",
    "©2020 Luis Morales. All rights reserved. "
   ]
  },
  {
   "attachments": {
    "image.png": {
     "image/png": "[encoded data removed]"
    }
   },
   "cell_type": "markdown",
   "metadata": {},
   "source": [
    "## Problem 1 (1 point)\n",
    "\n",
    "Create a function that estimates and returns the value of Pi using n experiments as per the following scenario.\n",
    "\n",
    "Use Example 2.3 in the textbook to simulate the Buffon’s Needle experiments. Please calculate and report the estimated number of $\\pi$ using 100,1000,10000,100000 trials.\n",
    "\n",
    "Using this description, we have 0 ≤ d ≤ 1/2, and 0 ≤ θ ≤ π/2. Moreover, we see that the needle lies across the nearest line if and only if the hypotenuse of the triangle is less than half the length of the needle.  To simulate,\n",
    "\n",
    "![image.png](attachment:image.png)\n",
    "###### Note: you can use np.pi as part of your solution"
   ]
  },
  {
   "cell_type": "code",
   "execution_count": null,
   "metadata": {
    "deletable": false,
    "nbgrader": {
     "cell_type": "code",
     "checksum": "932aeeafc618bb0d69b48859317f7ebf",
     "grade": false,
     "grade_id": "cell-e82b71177043f4b7",
     "locked": false,
     "schema_version": 3,
     "solution": true,
     "task": false
    }
   },
   "outputs": [],
   "source": [
    "import numpy as np\n",
    "import math\n",
    "def myfunction1(n):\n",
    "    # YOUR CODE HERE\n",
    "    raise NotImplementedError()"
   ]
  },
  {
   "cell_type": "code",
   "execution_count": null,
   "metadata": {
    "deletable": false,
    "editable": false,
    "nbgrader": {
     "cell_type": "code",
     "checksum": "84116c685638a2eb113c240896201e24",
     "grade": true,
     "grade_id": "cell-b2de657ead8543f2",
     "locked": true,
     "points": 1,
     "schema_version": 3,
     "solution": false,
     "task": false
    }
   },
   "outputs": [],
   "source": [
    "assert np.abs(myfunction1(100000)-[np.pi])<0.1"
   ]
  },
  {
   "cell_type": "markdown",
   "metadata": {},
   "source": [
    "## Problem 2 (1 point)\n",
    "\n",
    "Create a function that calculates the probability that n people in a class less than 200 have a distinct birthday.\n",
    "\n",
    "We assume that every person has an equal probability of being born on any day during the year, independently of everyone else, and ignore the additional complication presented by leap years (i.e., nobody is born on February 29, we have 365 days for one year). What is the probability that for all n people each person has a distinct birthday? Then calculate and visualize P(n) for the following values of n [20,21,22,23,24,25,39]. For what value of n does the probability becomes less than 50%?"
   ]
  },
  {
   "cell_type": "code",
   "execution_count": null,
   "metadata": {
    "deletable": false,
    "nbgrader": {
     "cell_type": "code",
     "checksum": "597a19b2b8ed340803ae2eb6cf32cdd5",
     "grade": false,
     "grade_id": "cell-6cdaa2346a4d2ac2",
     "locked": false,
     "schema_version": 3,
     "solution": true,
     "task": false
    }
   },
   "outputs": [],
   "source": [
    "import numpy as np\n",
    "import math\n",
    "def myfunction2(n):\n",
    "     # YOUR CODE HERE\n",
    "     raise NotImplementedError()"
   ]
  },
  {
   "cell_type": "code",
   "execution_count": null,
   "metadata": {
    "deletable": false,
    "editable": false,
    "nbgrader": {
     "cell_type": "code",
     "checksum": "0467615e36ecbc39ed0996edb30d2ae6",
     "grade": true,
     "grade_id": "cell-6e47ad550a564917",
     "locked": true,
     "points": 1,
     "schema_version": 3,
     "solution": false,
     "task": false
    }
   },
   "outputs": [],
   "source": [
    "assert np.abs(myfunction2(39)-0.12178)<0.1"
   ]
  },
  {
   "cell_type": "markdown",
   "metadata": {},
   "source": [
    "## Problem 3 (1 point)\n",
    "\n",
    "Create a function that simulates the probability of the following scenario.\n",
    "\n",
    "Draw the top 7 cards from a well-shuffled standard 52-card deck. Find the probability that the 7 cards include exactly 3 Kings. Then calculate the true value of this area and ensure your estimate is within 10 percent of true probability."
   ]
  },
  {
   "cell_type": "code",
   "execution_count": null,
   "metadata": {
    "deletable": false,
    "nbgrader": {
     "cell_type": "code",
     "checksum": "df98114f2608f9977d89cfc8c6d4074d",
     "grade": false,
     "grade_id": "attend",
     "locked": false,
     "schema_version": 3,
     "solution": true,
     "task": false
    }
   },
   "outputs": [],
   "source": [
    "import numpy as np\n",
    "import math\n",
    "def myfunction3():\n",
    "    '''simulation answer, please write codes to simulate the random experiments and calculate the answer'''\n",
    "    # YOUR CODE HERE\n",
    "    raise NotImplementedError()"
   ]
  },
  {
   "cell_type": "code",
   "execution_count": null,
   "metadata": {
    "deletable": false,
    "editable": false,
    "nbgrader": {
     "cell_type": "code",
     "checksum": "d3d90381080a39a114b0db9fb1e7de08",
     "grade": true,
     "grade_id": "attendtest",
     "locked": true,
     "points": 1,
     "schema_version": 3,
     "solution": false,
     "task": false
    }
   },
   "outputs": [],
   "source": [
    "assert np.abs(myfunction3()-0.0061)<0.1"
   ]
  },
  {
   "cell_type": "markdown",
   "metadata": {
    "deletable": false,
    "editable": false,
    "nbgrader": {
     "cell_type": "markdown",
     "checksum": "617a8a4dba9698e83b8504fa696eedb7",
     "grade": false,
     "grade_id": "cell-7b7b8b2b7e456082",
     "locked": true,
     "schema_version": 3,
     "solution": false,
     "task": false
    }
   },
   "source": [
    "## Problem 4 (1 point)\n",
    "\n",
    "Create a function that simulates the probabilities for the following scenario and returns a list with two values: prob winning car with \"stay\" strategy, probability winning car with \"switch\" strategy.\n",
    "\n",
    "Based on the Monty Hall problem (textbook page 136 example 4.6), I want you to estimate probability of winning the car if player uses a \"switch\" strategy.  But, I want you to assume that Monty will give the player 50% chance of winning the car (if you pick the wrong door!). Carefully state any assumptions that you have made when writing the program, and use annotation to explain each line of your code. Return list with two values: prob winning car with stay strategy, probability winning card with switch strategy."
   ]
  },
  {
   "cell_type": "code",
   "execution_count": null,
   "metadata": {
    "deletable": false,
    "nbgrader": {
     "cell_type": "code",
     "checksum": "724a7d020ca93ddedbefa5e77ea022d3",
     "grade": false,
     "grade_id": "wins",
     "locked": false,
     "schema_version": 3,
     "solution": true
    }
   },
   "outputs": [],
   "source": [
    "import numpy as np\n",
    "from math import factorial\n",
    "def myfunction6():\n",
    "    # YOUR CODE HERE\n",
    "    raise NotImplementedError()"
   ]
  },
  {
   "cell_type": "code",
   "execution_count": null,
   "metadata": {
    "deletable": false,
    "editable": false,
    "nbgrader": {
     "cell_type": "code",
     "checksum": "bd4d5251411c2f8c4583bd6cac386090",
     "grade": true,
     "grade_id": "winstest",
     "locked": false,
     "points": 1,
     "schema_version": 3,
     "solution": false
    }
   },
   "outputs": [],
   "source": [
    "assert np.abs(myfunction6()[0]-[0.3315])<0.1\n",
    "assert np.abs(myfunction6()[1]-[0.3315])<0.1"
   ]
  }
 ],
 "metadata": {
  "kernelspec": {
   "display_name": "Python 3",
   "language": "python",
   "name": "python3"
  },
  "language_info": {
   "codemirror_mode": {
    "name": "ipython",
    "version": 3
   },
   "file_extension": ".py",
   "mimetype": "text/x-python",
   "name": "python",
   "nbconvert_exporter": "python",
   "pygments_lexer": "ipython3",
   "version": "3.7.4"
  }
 },
 "nbformat": 4,
 "nbformat_minor": 1
}
